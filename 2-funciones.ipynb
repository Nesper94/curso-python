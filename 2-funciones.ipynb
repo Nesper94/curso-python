{
 "cells": [
  {
   "cell_type": "markdown",
   "metadata": {},
   "source": [
    "<h1><center>\n",
    "<a name='funciones'></a>Funciones\n",
    "</h1></center>\n",
    "\n",
    " - [Recursividad](#recursividad)\n",
    " - [Funciones generadoras](#fungen)\n",
    " - [Funciones lambda](#lambda)\n",
    "\n",
    "------\n",
    "![Funciones](figuras/funciones.png)\n",
    "\n",
    "Comencemos a programar algunas funciones:"
   ]
  },
  {
   "cell_type": "code",
   "execution_count": null,
   "metadata": {},
   "outputs": [],
   "source": [
    "def saludar(nombre):\n",
    "    print('¡Hola ' + nombre + '!\\n¿Cómo estás?')"
   ]
  },
  {
   "cell_type": "code",
   "execution_count": null,
   "metadata": {},
   "outputs": [],
   "source": [
    "saludar('Mothra')"
   ]
  },
  {
   "cell_type": "markdown",
   "metadata": {},
   "source": [
    "Veamos las partes de una función:\n",
    "<br><br>\n",
    "<dl>\n",
    "    <dt>def</dt>\n",
    "    <dd>Esta es una palabra reservada en Python que sirve para indicar que estamos creando una función. Debe ir seguida de un espacio.</dd><br>\n",
    "    <dt>saludar()</dt>\n",
    "    <dd>Este sería el nombre de nuestra función y es el que usaremos cuando queramos utilizarla. Los paréntesis también son necesarios cuando creamos una función.</dd><br>\n",
    "    <dt>nombre</dt>\n",
    "    <dd>Este sería el argumento que necesita nuestra función para... pues funcionar.</dd>\n",
    "</dl>\n",
    "\n",
    "Ahora llamaremos a nuestra función:"
   ]
  },
  {
   "cell_type": "code",
   "execution_count": null,
   "metadata": {},
   "outputs": [],
   "source": [
    "saludar('Alicia')"
   ]
  },
  {
   "cell_type": "markdown",
   "metadata": {},
   "source": [
    "Podemos escribir **documentación** sobre nuestras funciones usando comillas:"
   ]
  },
  {
   "cell_type": "code",
   "execution_count": null,
   "metadata": {},
   "outputs": [],
   "source": [
    "def multiplicar(x,z):\n",
    "    \n",
    "    '''Esta función multiplica\n",
    "    dos números x y z.'''\n",
    "    \n",
    "    return x*z"
   ]
  },
  {
   "cell_type": "code",
   "execution_count": null,
   "metadata": {},
   "outputs": [],
   "source": [
    "multiplicar(4,3)"
   ]
  },
  {
   "cell_type": "code",
   "execution_count": null,
   "metadata": {},
   "outputs": [],
   "source": [
    "help(multiplicar)"
   ]
  },
  {
   "cell_type": "code",
   "execution_count": null,
   "metadata": {},
   "outputs": [],
   "source": [
    "def saludar(nombre, conconfianza=False):\n",
    "    if conconfianza == False:\n",
    "        print('¡Hola ' + nombre + '!\\n¿Cómo estás?')\n",
    "    else:\n",
    "        print('¡Hola ' + nombre + '!\\n¿Qué más de la familia? ¿Vientos o mareas?')"
   ]
  },
  {
   "cell_type": "code",
   "execution_count": null,
   "metadata": {},
   "outputs": [],
   "source": [
    "saludar('Arquímedes', conconfianza=True)"
   ]
  },
  {
   "cell_type": "code",
   "execution_count": null,
   "metadata": {},
   "outputs": [],
   "source": [
    "saludar('María', True)"
   ]
  },
  {
   "cell_type": "markdown",
   "metadata": {},
   "source": [
    "## Diferencia entre *print* y *return*"
   ]
  },
  {
   "cell_type": "code",
   "execution_count": null,
   "metadata": {},
   "outputs": [],
   "source": [
    "hola = saludar('Lina')"
   ]
  },
  {
   "cell_type": "code",
   "execution_count": null,
   "metadata": {},
   "outputs": [],
   "source": [
    "print(hola)"
   ]
  },
  {
   "cell_type": "code",
   "execution_count": null,
   "metadata": {},
   "outputs": [],
   "source": [
    "def sreturn(nombre):\n",
    "    return '¡Hola ' + nombre + '!\\n¿Cómo estás?'"
   ]
  },
  {
   "cell_type": "code",
   "execution_count": null,
   "metadata": {},
   "outputs": [],
   "source": [
    "sreturn('Lina')"
   ]
  },
  {
   "cell_type": "code",
   "execution_count": null,
   "metadata": {},
   "outputs": [],
   "source": [
    "hola = sreturn('Lina')"
   ]
  },
  {
   "cell_type": "code",
   "execution_count": null,
   "metadata": {},
   "outputs": [],
   "source": [
    "print(hola)"
   ]
  },
  {
   "cell_type": "markdown",
   "metadata": {},
   "source": [
    "## Recursividad: Una función que se llama a sí misma. <a name='recursividad'/>"
   ]
  },
  {
   "cell_type": "code",
   "execution_count": null,
   "metadata": {},
   "outputs": [],
   "source": [
    "def factorial(x):\n",
    "    if x == 1:\n",
    "        return 1\n",
    "    else:\n",
    "        return x*factorial(x-1)"
   ]
  },
  {
   "cell_type": "code",
   "execution_count": null,
   "metadata": {},
   "outputs": [],
   "source": [
    "factorial(5)"
   ]
  },
  {
   "cell_type": "markdown",
   "metadata": {},
   "source": [
    "Las funciones recursivas se componen de dos partes principales:\n",
    "- Caso base.\n",
    "- Caso recursivo.\n",
    "\n",
    "```python\n",
    "def mi_funcion(argumentos):\n",
    "    if caso_base:\n",
    "        código # Aquí NO se usa la función\n",
    "    else:\n",
    "        mi_funcion(argumentos) # Caso recursivo donde mi_funcion se llama a sí misma\n",
    "```\n",
    "\n",
    "### El caso base es muy importante\n",
    "\n",
    "Sin un caso base la función siempre se llamaría a sí misma y la\n",
    "recursividad sería infinita:"
   ]
  },
  {
   "cell_type": "code",
   "execution_count": null,
   "metadata": {},
   "outputs": [],
   "source": [
    "def factorial(x):\n",
    "    return x*factorial(x-1)"
   ]
  },
  {
   "cell_type": "code",
   "execution_count": null,
   "metadata": {},
   "outputs": [],
   "source": [
    "factorial(5)"
   ]
  },
  {
   "cell_type": "markdown",
   "metadata": {},
   "source": [
    "## Función zip (cremallera)\n",
    "<img src='figuras/cremallera.jpeg' width='200' />\n",
    "\n",
    "Esta función intercala los elementos de varios iterables."
   ]
  },
  {
   "cell_type": "code",
   "execution_count": null,
   "metadata": {},
   "outputs": [],
   "source": [
    "help(zip)"
   ]
  },
  {
   "cell_type": "code",
   "execution_count": null,
   "metadata": {},
   "outputs": [],
   "source": [
    "dict( zip( (1,2,3), ('a','b','c') ))"
   ]
  },
  {
   "cell_type": "code",
   "execution_count": null,
   "metadata": {},
   "outputs": [],
   "source": [
    "list(zip((1,2,3),('a','b','c')))"
   ]
  },
  {
   "cell_type": "markdown",
   "metadata": {},
   "source": [
    "### Creemos una función para el conteo de SNPs\n",
    "\n",
    "<pre>\n",
    "TACTTCTACTTTGCAGATCCATCTTCATAATGAAACGTGTCAATTTACATGAAAATGATTTTTCTCATCT  \n",
    "    |                   |                           |  \n",
    "TACTACTACTTTGCAGATCCATCTGCATAATGAAACGTGTCAATTTACATGAGAATGATTTTTCTCATCT\n",
    "</pre>"
   ]
  },
  {
   "cell_type": "code",
   "execution_count": null,
   "metadata": {},
   "outputs": [],
   "source": [
    "dna1 = 'TACTTCTACTTTGCAGATCCATCTTCATAATGAAACGTGTCAATTTACATGAAAATGATTTTTCTCATCT'\n",
    "dna2 = 'TACTACTACTTTGCAGATCCATCTGCATAATGAAACGTGTCAATTTACATGAGAATGATTTTTCTCATCT'\n",
    "\n",
    "#print(list(zip(dna1,dna2)))\n",
    "print([(x,y) for x,y in zip(dna1, dna2) if x != y]) #Esta línea es solo para mostrar las diferencias entre las cadenas\n",
    "\n",
    "def snp(sec1, sec2):\n",
    "    return len([(x,y) for x,y in zip(sec1, sec2) if x != y])"
   ]
  },
  {
   "cell_type": "code",
   "execution_count": null,
   "metadata": {},
   "outputs": [],
   "source": [
    "snp('GATTACA', 'GATTACG')"
   ]
  },
  {
   "cell_type": "code",
   "execution_count": null,
   "metadata": {},
   "outputs": [],
   "source": [
    "snp('holahola', 'holahole')"
   ]
  },
  {
   "cell_type": "markdown",
   "metadata": {},
   "source": [
    "Ahora veamos este ejemplo:"
   ]
  },
  {
   "cell_type": "code",
   "execution_count": null,
   "metadata": {},
   "outputs": [],
   "source": [
    "def fib(n):  # Escribe la serie de Fibonacci hasta n\n",
    "    \n",
    "     \"\"\"Escribe la serie de Fibonacci hasta n.\"\"\"\n",
    "        \n",
    "     a, b = 0, 1\n",
    "     while a < n:\n",
    "         print(a)\n",
    "         a, b = b, a+b"
   ]
  },
  {
   "cell_type": "code",
   "execution_count": null,
   "metadata": {},
   "outputs": [],
   "source": [
    "fib(30)"
   ]
  },
  {
   "cell_type": "markdown",
   "metadata": {},
   "source": [
    "## Funciones generadoras (yield)<a name='fungen'/>\n",
    "Las funciones generadoras se diferencian en que entregan su resultado por partes y no de una sola vez:"
   ]
  },
  {
   "cell_type": "code",
   "execution_count": null,
   "metadata": {},
   "outputs": [],
   "source": [
    "def cuadrados(x):\n",
    "    for i in range(x):\n",
    "        yield i**2"
   ]
  },
  {
   "cell_type": "code",
   "execution_count": null,
   "metadata": {},
   "outputs": [],
   "source": [
    "cuadrados(6)"
   ]
  },
  {
   "cell_type": "code",
   "execution_count": null,
   "metadata": {},
   "outputs": [],
   "source": [
    "x = cuadrados(6)"
   ]
  },
  {
   "cell_type": "code",
   "execution_count": null,
   "metadata": {},
   "outputs": [],
   "source": [
    "next(x)"
   ]
  },
  {
   "cell_type": "markdown",
   "metadata": {},
   "source": [
    "## Funciones Lambda <a name='lambda'><a/>\n",
    "Son funciones que no necesitan ser nombradas, útiles para cuando se requiere realizar un procedimiento sencillo y no se requiere definir una función:"
   ]
  },
  {
   "cell_type": "code",
   "execution_count": null,
   "metadata": {},
   "outputs": [],
   "source": [
    "list(map(lambda x: x**2, [4,3,2,1]))"
   ]
  },
  {
   "cell_type": "code",
   "execution_count": null,
   "metadata": {},
   "outputs": [],
   "source": [
    "f = lambda x, y, z: x + y + z\n",
    "f(4,3,4)"
   ]
  },
  {
   "cell_type": "markdown",
   "metadata": {},
   "source": [
    "En la celda anterior sí la nombré, la llamé `f`. El código anterior sería equivalente a escribir:\n",
    "\n",
    "```python\n",
    "def f(x, y, z):\n",
    "    return x + y + z\n",
    "```\n",
    "\n",
    "La diferencia es que con la declaración `lambda` solo se necesitó una línea.\n",
    "\n",
    "También son útiles porque pueden usarse en diccionarios:"
   ]
  },
  {
   "cell_type": "code",
   "execution_count": null,
   "metadata": {},
   "outputs": [],
   "source": [
    "{1:'a', 2:'b'}.get(1)"
   ]
  },
  {
   "cell_type": "code",
   "execution_count": null,
   "metadata": {},
   "outputs": [],
   "source": [
    "def operar(op, x, y):\n",
    "    print({'sumar': lambda: x+y, 'multiplicar': lambda: x*y}.get(op)())\n",
    "\n",
    "operar('sumar', 4, 3)\n",
    "operar('multiplicar', 4, 3)"
   ]
  },
  {
   "cell_type": "code",
   "execution_count": null,
   "metadata": {},
   "outputs": [],
   "source": []
  }
 ],
 "metadata": {
  "kernelspec": {
   "display_name": "Python 3",
   "language": "python",
   "name": "python3"
  },
  "language_info": {
   "codemirror_mode": {
    "name": "ipython",
    "version": 3
   },
   "file_extension": ".py",
   "mimetype": "text/x-python",
   "name": "python",
   "nbconvert_exporter": "python",
   "pygments_lexer": "ipython3",
   "version": "3.8.3"
  }
 },
 "nbformat": 4,
 "nbformat_minor": 4
}
