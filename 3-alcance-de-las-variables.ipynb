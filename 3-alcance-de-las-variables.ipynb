{
 "cells": [
  {
   "cell_type": "markdown",
   "metadata": {},
   "source": [
    "<h1><center>\n",
    "<a name='alcance'></a>\n",
    "Alcance - Esfera de acción de las variables (Scope)\n",
    "</center></h1>\n",
    "\n",
    "Debemos tener en cuenta que en Python las variables tienen una \"esfera de acción\" según donde se definan. Por ejemplo:  \n",
    "Lo que pasa en la función, se queda en la función:"
   ]
  },
  {
   "cell_type": "code",
   "execution_count": null,
   "metadata": {},
   "outputs": [],
   "source": [
    "z = 9 # Esta es una variable global, existe en el entorno en el que estamos trabajando (el notebook).\n",
    "def reasignar(x):\n",
    "    z = x*10 # Esta z es una variable local, solo es visible dentro de la función.\n",
    "    print(z)"
   ]
  },
  {
   "cell_type": "code",
   "execution_count": null,
   "metadata": {},
   "outputs": [],
   "source": [
    "reasignar(3)\n",
    "z"
   ]
  },
  {
   "cell_type": "code",
   "execution_count": null,
   "metadata": {},
   "outputs": [],
   "source": [
    "def reasignar(x):\n",
    "    global z; z = x*10\n",
    "    print(z)"
   ]
  },
  {
   "cell_type": "code",
   "execution_count": null,
   "metadata": {},
   "outputs": [],
   "source": [
    "reasignar(3)\n",
    "z"
   ]
  },
  {
   "cell_type": "code",
   "execution_count": null,
   "metadata": {},
   "outputs": [],
   "source": [
    "f = lambda: z/2"
   ]
  },
  {
   "cell_type": "code",
   "execution_count": null,
   "metadata": {},
   "outputs": [],
   "source": [
    "f()"
   ]
  },
  {
   "cell_type": "markdown",
   "metadata": {},
   "source": [
    "Cuando escribimos el nombre de una variable en Python, este\n",
    "busca la definición de esa variable usando la siguiente\n",
    "regla:\n",
    "\n",
    "<h3><center>Regla LEGB de búsqueda de variables en Python</center></h3>\n",
    "<img src='figuras/legb-rule.png' width='540'/>\n",
    "<center> Mark Lutz (2013). _Learning Python_. pp. 489 </center>"
   ]
  },
  {
   "cell_type": "code",
   "execution_count": null,
   "metadata": {},
   "outputs": [],
   "source": [
    "x = 9\n",
    "def fun():\n",
    "    return x*2\n",
    "\n",
    "fun()"
   ]
  },
  {
   "cell_type": "code",
   "execution_count": null,
   "metadata": {},
   "outputs": [],
   "source": [
    "x = 9\n",
    "def fun():\n",
    "    x = 4\n",
    "    return x*2\n",
    "\n",
    "fun()"
   ]
  },
  {
   "cell_type": "code",
   "execution_count": null,
   "metadata": {},
   "outputs": [],
   "source": [
    "x = 9\n",
    "def fun(x):\n",
    "    return x*2\n",
    "\n",
    "fun(6) # x = 6"
   ]
  },
  {
   "cell_type": "code",
   "execution_count": null,
   "metadata": {},
   "outputs": [],
   "source": [
    "x = 9\n",
    "def fun():\n",
    "    x = 3\n",
    "    def anidada():\n",
    "        return x*2\n",
    "    return anidada()"
   ]
  },
  {
   "cell_type": "code",
   "execution_count": null,
   "metadata": {},
   "outputs": [],
   "source": [
    "fun()"
   ]
  },
  {
   "cell_type": "markdown",
   "metadata": {},
   "source": [
    "### ¡Atención! Declaraciones de loop no localizan nombres de variables"
   ]
  },
  {
   "cell_type": "code",
   "execution_count": null,
   "metadata": {},
   "outputs": [],
   "source": [
    "y = 99; print(y)\n",
    "print('---')\n",
    "for y in 'kakaroto': # y = 'k', y = 'a', ..., y = 'o'\n",
    "    print(y)\n",
    "print('---')\n",
    "print(y)"
   ]
  },
  {
   "cell_type": "markdown",
   "metadata": {},
   "source": [
    "Aparte de **global** existe otra declaración para no localizar variables.\n",
    "Veamos ahora **nonlocal** en acción en un ejemplo interesante: Una función para crear funciones."
   ]
  },
  {
   "cell_type": "code",
   "execution_count": null,
   "metadata": {},
   "outputs": [],
   "source": [
    "c = 90 # c de manera global\n",
    "def contador():\n",
    "    c = 1\n",
    "    print('El valor de c en contador es:', c)\n",
    "    def fun():\n",
    "        # nonlocal c\n",
    "        c = 10 # Aquí estoy definiendo una \"nueva\" variable c\n",
    "        print('El valor de c en fun es:', c)\n",
    "    fun()\n",
    "    print('El valor final de c en contador es:', c)"
   ]
  },
  {
   "cell_type": "code",
   "execution_count": null,
   "metadata": {},
   "outputs": [],
   "source": [
    "contador()\n",
    "print('El valor de c de manera global es:', c)"
   ]
  },
  {
   "cell_type": "code",
   "execution_count": null,
   "metadata": {},
   "outputs": [],
   "source": [
    "c = 90\n",
    "def contador():\n",
    "    c = 1\n",
    "    print('El valor de c en contador es:', c)\n",
    "    def fun():\n",
    "        nonlocal c\n",
    "        c = 10 # Aquí estoy en realidad redefiniendo c\n",
    "        print('El valor de c en fun es:', c)\n",
    "    fun()\n",
    "    print('El valor final de c en contador es:', c)"
   ]
  },
  {
   "cell_type": "code",
   "execution_count": null,
   "metadata": {},
   "outputs": [],
   "source": [
    "contador()\n",
    "print('El valor global de c es:', c)"
   ]
  },
  {
   "cell_type": "code",
   "execution_count": null,
   "metadata": {},
   "outputs": [],
   "source": [
    "def contador():\n",
    "    c = 1\n",
    "    def fun():\n",
    "        nonlocal c\n",
    "        print('¿Cuántas veces se ha usado esta función?\\nSe ha usado',c,'veces.')\n",
    "        c += 1\n",
    "    return fun"
   ]
  },
  {
   "cell_type": "code",
   "execution_count": null,
   "metadata": {},
   "outputs": [],
   "source": [
    "contador()"
   ]
  },
  {
   "cell_type": "code",
   "execution_count": null,
   "metadata": {},
   "outputs": [],
   "source": [
    "gauss = contador()\n",
    "gauss()"
   ]
  },
  {
   "cell_type": "code",
   "execution_count": null,
   "metadata": {},
   "outputs": [],
   "source": [
    "gauss()\n",
    "gauss()"
   ]
  },
  {
   "cell_type": "code",
   "execution_count": null,
   "metadata": {},
   "outputs": [],
   "source": [
    "gauss()"
   ]
  },
  {
   "cell_type": "code",
   "execution_count": null,
   "metadata": {},
   "outputs": [],
   "source": [
    "poisson = contador()"
   ]
  },
  {
   "cell_type": "code",
   "execution_count": null,
   "metadata": {},
   "outputs": [],
   "source": [
    "poisson()\n",
    "poisson()"
   ]
  },
  {
   "cell_type": "code",
   "execution_count": null,
   "metadata": {},
   "outputs": [],
   "source": [
    "gauss()"
   ]
  },
  {
   "cell_type": "code",
   "execution_count": null,
   "metadata": {},
   "outputs": [],
   "source": [
    "c = 1\n",
    "def fun():\n",
    "    global c\n",
    "    print('¿Cuántas veces se ha usado esta función?\\nSe ha usado',c,'veces.')\n",
    "    c += 1"
   ]
  },
  {
   "cell_type": "code",
   "execution_count": null,
   "metadata": {},
   "outputs": [],
   "source": [
    "fun()"
   ]
  },
  {
   "cell_type": "code",
   "execution_count": null,
   "metadata": {},
   "outputs": [],
   "source": [
    "fun()\n",
    "fun()"
   ]
  },
  {
   "cell_type": "markdown",
   "metadata": {},
   "source": [
    "### Brevísima introducción a los atributos\n",
    "Veamos un ejemplo similar al anterior pero ahora usando una variable como atributo de la función:"
   ]
  },
  {
   "cell_type": "code",
   "execution_count": null,
   "metadata": {},
   "outputs": [],
   "source": [
    "def sastre():\n",
    "    sastre.moscos += 1\n",
    "    print('¿A cuántos mataste sastre?\\n¡Maté ', sastre.moscos,'!',sep='')"
   ]
  },
  {
   "cell_type": "code",
   "execution_count": null,
   "metadata": {},
   "outputs": [],
   "source": [
    "sastre.moscos = 1\n",
    "sastre()\n",
    "sastre()\n",
    "sastre()"
   ]
  },
  {
   "cell_type": "code",
   "execution_count": null,
   "metadata": {},
   "outputs": [],
   "source": [
    "sastre()"
   ]
  },
  {
   "cell_type": "code",
   "execution_count": null,
   "metadata": {},
   "outputs": [],
   "source": [
    "sastre.moscos"
   ]
  },
  {
   "cell_type": "code",
   "execution_count": null,
   "metadata": {},
   "outputs": [],
   "source": [
    "c = 9 + 2j\n",
    "print(c.imag)\n",
    "print(c.real)\n",
    "print(c.conjugate())"
   ]
  }
 ],
 "metadata": {
  "kernelspec": {
   "display_name": "Python 3 (ipykernel)",
   "language": "python",
   "name": "python3"
  },
  "language_info": {
   "codemirror_mode": {
    "name": "ipython",
    "version": 3
   },
   "file_extension": ".py",
   "mimetype": "text/x-python",
   "name": "python",
   "nbconvert_exporter": "python",
   "pygments_lexer": "ipython3",
   "version": "3.10.12"
  }
 },
 "nbformat": 4,
 "nbformat_minor": 4
}
