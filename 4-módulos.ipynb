{
 "cells": [
  {
   "cell_type": "markdown",
   "id": "2aef78d5",
   "metadata": {},
   "source": [
    "<h1><center>\n",
    "<a name='import'></a>\n",
    "Importando módulos </center></h1>\n",
    "\n",
    "En algunas ocasiones necesitamos funciones o complementos que Python por defecto no tiene, sin embargo, existen muchos módulos creados por otras personas que nos pueden ayudar en nuestro trabajo.\n",
    "\n",
    "Por ejemplo queremos usar el número pi y la función coseno."
   ]
  },
  {
   "cell_type": "code",
   "execution_count": null,
   "id": "55368396",
   "metadata": {},
   "outputs": [],
   "source": [
    "cos(pi)"
   ]
  },
  {
   "cell_type": "code",
   "execution_count": null,
   "id": "b8165437",
   "metadata": {},
   "outputs": [],
   "source": [
    "import math"
   ]
  },
  {
   "cell_type": "code",
   "execution_count": null,
   "id": "feeb324a",
   "metadata": {},
   "outputs": [],
   "source": [
    "print(math.pi)"
   ]
  },
  {
   "cell_type": "code",
   "execution_count": null,
   "id": "a851639a",
   "metadata": {},
   "outputs": [],
   "source": [
    "math.cos(math.pi)"
   ]
  },
  {
   "cell_type": "code",
   "execution_count": null,
   "id": "4b7abacb",
   "metadata": {},
   "outputs": [],
   "source": [
    "# Para no tener que teclear tanto podemos hacer\n",
    "# la siguiente asignación, lo que hace Python es:\n",
    "# m = math\n",
    "# del math\n",
    "import math as m\n",
    "print(m.pi)"
   ]
  },
  {
   "cell_type": "markdown",
   "id": "b03afef0",
   "metadata": {},
   "source": [
    "Al importar el módulo `math`, importamos muchas funcionalidades de ese módulo. Si solo necesitamos usar el número $\\pi$ y la función Coseno, hacemos lo siguiente:"
   ]
  },
  {
   "cell_type": "code",
   "execution_count": null,
   "id": "2ec8facf",
   "metadata": {},
   "outputs": [],
   "source": [
    "from math import pi, cos"
   ]
  },
  {
   "cell_type": "code",
   "execution_count": null,
   "id": "b4c292d8",
   "metadata": {},
   "outputs": [],
   "source": [
    "cos(pi)"
   ]
  },
  {
   "cell_type": "code",
   "execution_count": null,
   "id": "5be80831",
   "metadata": {},
   "outputs": [],
   "source": [
    "cos = lambda x: print('No voy a calcular el coseno de', x,', la función cos fue sobrescrita.')\n",
    "cos(pi)"
   ]
  },
  {
   "cell_type": "markdown",
   "id": "e8e2eba9",
   "metadata": {},
   "source": [
    "Los módulos solo son importados una vez, para volverlos a cargar hay que ejecutar `from imp import reload`."
   ]
  },
  {
   "cell_type": "code",
   "execution_count": null,
   "id": "36a7295a",
   "metadata": {},
   "outputs": [],
   "source": [
    "import mercurio as me"
   ]
  },
  {
   "cell_type": "code",
   "execution_count": null,
   "id": "597895df",
   "metadata": {},
   "outputs": [],
   "source": [
    "help(me)"
   ]
  },
  {
   "cell_type": "markdown",
   "id": "763b4d61",
   "metadata": {},
   "source": [
    "Vayamos al archivo del módulo y hagamos una modificación, por ejemplo, añadiendo al final la línea:  \n",
    "`print('El módulo fue importado')`"
   ]
  },
  {
   "cell_type": "code",
   "execution_count": null,
   "id": "73d059e9",
   "metadata": {},
   "outputs": [],
   "source": [
    "import mercurio as me"
   ]
  },
  {
   "cell_type": "code",
   "execution_count": null,
   "id": "28b78e25",
   "metadata": {},
   "outputs": [],
   "source": [
    "from imp import reload\n",
    "reload(me)"
   ]
  },
  {
   "cell_type": "code",
   "execution_count": null,
   "id": "a40c091e",
   "metadata": {},
   "outputs": [],
   "source": [
    "help(me.mercurio)"
   ]
  },
  {
   "cell_type": "code",
   "execution_count": null,
   "id": "924a0e0e",
   "metadata": {},
   "outputs": [],
   "source": [
    "me.mercurio(2, 5, 100)"
   ]
  },
  {
   "cell_type": "code",
   "execution_count": null,
   "id": "9d880c12",
   "metadata": {},
   "outputs": [],
   "source": [
    "from mercurio import radiobar"
   ]
  },
  {
   "cell_type": "code",
   "execution_count": null,
   "id": "94521c20",
   "metadata": {},
   "outputs": [],
   "source": [
    "help(radiobar)"
   ]
  },
  {
   "cell_type": "code",
   "execution_count": null,
   "id": "ac7236a4",
   "metadata": {},
   "outputs": [],
   "source": [
    "radiobar(100000, 10)"
   ]
  },
  {
   "cell_type": "markdown",
   "id": "e4876b6f",
   "metadata": {},
   "source": [
    "Hay muchos módulos con funcionalidades muy utilizadas:"
   ]
  },
  {
   "cell_type": "code",
   "execution_count": null,
   "id": "9dd040a7",
   "metadata": {},
   "outputs": [],
   "source": [
    "import statistics as st"
   ]
  },
  {
   "cell_type": "code",
   "execution_count": null,
   "id": "058dde79",
   "metadata": {},
   "outputs": [],
   "source": [
    "datos = [1,2,3,4]\n",
    "st.mean(datos)"
   ]
  },
  {
   "cell_type": "code",
   "execution_count": null,
   "id": "bcb80801",
   "metadata": {},
   "outputs": [],
   "source": [
    "st.variance(datos)"
   ]
  },
  {
   "cell_type": "markdown",
   "id": "bb44b1fa",
   "metadata": {},
   "source": [
    "Otros módulos de interés son:\n",
    "\n",
    "|         Módulo  | Descripción|\n",
    "| --------------: | :--------- |\n",
    "| **Biopython** | Colección de bibliotecas orientadas a la bioinformática para Python.|\n",
    "| **NumPy** | Biblioteca que da soporte al cálculo con matrices y vectores.|\n",
    "| **SciPy** | Biblioteca que permite realizar análisis científico como optimización, álgebra lineal, integración, ecuaciones diferenciales entre otras.|\n",
    "| **Pandas** | Biblioteca que permite el análisis de datos a través de series y «dataframes».|\n",
    "| **Pyomo** | Colección de paquetes de software de Python para formular modelos de optimización.|\n",
    "| **Matplotlib** | Biblioteca para la generación de gráficos a partir de datos contenidos en listas o arrays en el lenguaje de programación Python y su extensión matemática NumPy.|\n",
    "\n",
    "A continuación vamos a instalar Numpy y Matplotlib en caso de que no los tengamos.\n",
    "El símbolo `!` le dice a Jupyter que interprete el texto que sigue como\n",
    "un comando de terminal:"
   ]
  },
  {
   "cell_type": "code",
   "execution_count": null,
   "id": "a5affba3",
   "metadata": {},
   "outputs": [],
   "source": [
    "!pip3 install numpy\n",
    "!pip3 install matplotlib"
   ]
  },
  {
   "cell_type": "markdown",
   "id": "02a841ed",
   "metadata": {},
   "source": [
    "En Windows:"
   ]
  },
  {
   "cell_type": "code",
   "execution_count": null,
   "id": "b78c8675",
   "metadata": {},
   "outputs": [],
   "source": [
    "!python -m pip install numpy\n",
    "!python -m pip install matplotlib"
   ]
  },
  {
   "cell_type": "markdown",
   "id": "d763a28c",
   "metadata": {},
   "source": [
    "<img src='figuras/program-arch.png' width='670'>\n",
    "<center> Mark Lutz (2013). <i>Learning Python</i>. pp. 672 </center>\n",
    "\n",
    "¿Dónde busca Python los módulos que le pedimos que importe?\n",
    "1. Directorio principal del programa (donde el programa está trabajando). Para ver cuál es ese directorio ejecutamos:\n",
    "\n",
    "```python\n",
    "import os  \n",
    "os.getcwd() # Get Current Working Directory\n",
    "```"
   ]
  },
  {
   "cell_type": "code",
   "execution_count": null,
   "id": "791a6a0d",
   "metadata": {},
   "outputs": [],
   "source": []
  },
  {
   "cell_type": "markdown",
   "id": "0502ec6f",
   "metadata": {},
   "source": [
    "2. Los directorios en la variable `PYTHONPATH`.\n",
    "3. Los directorios de las librerías estándar.\n",
    "4. Los contenidos de los archivos `.pth`  \n",
    "Estos generalmente se ponen en `/usr/lib/python3/dist-packages/` en Linux.\n",
    "5. La carpeta principal de los _site-packages_ de extensiones de terceros.\n",
    "\n",
    "Además de modificar algunas de las opciones anteriores, también podemos modificar el atributo `sys.path`:"
   ]
  },
  {
   "cell_type": "code",
   "execution_count": null,
   "id": "c4352ba8",
   "metadata": {},
   "outputs": [],
   "source": [
    "import sys\n",
    "sys.path"
   ]
  },
  {
   "cell_type": "code",
   "execution_count": null,
   "id": "742cbf88",
   "metadata": {},
   "outputs": [],
   "source": [
    "type(sys.path)"
   ]
  },
  {
   "cell_type": "code",
   "execution_count": null,
   "id": "7c7c9925",
   "metadata": {},
   "outputs": [],
   "source": [
    "sys.path.append('/home/nesper/Escritorio')\n",
    "sys.path"
   ]
  },
  {
   "cell_type": "markdown",
   "id": "24ba378c",
   "metadata": {},
   "source": [
    "## El truco `if __name__ == '__main__':`\n",
    "Cada módulo en Python tiene un atributo llamado `__name__` que se define así:\n",
    "* Si el archivo es ejecutado como un archivo de programa de nivel superior, entonces a `__name__` se le asigna el valor de `__main__`.\n",
    "* Si el archivo, por el contrario, es importado, `__name__` tiene como valor el nombre del módulo."
   ]
  },
  {
   "cell_type": "code",
   "execution_count": null,
   "id": "e4b895be",
   "metadata": {},
   "outputs": [],
   "source": [
    "me.__name__"
   ]
  },
  {
   "cell_type": "markdown",
   "id": "cc5f7ef4",
   "metadata": {},
   "source": [
    "Podemos aprovechar esto para correr código que solo se ejecute si\n",
    "nuestro módulo es corrido como script o programa principal:\n",
    "\n",
    "```python\n",
    "if __name__ == '__main__':\n",
    "    print('El módulo se ejecutó como programa principal.')\n",
    "else:\n",
    "    print('El módulo se importó desde Python')\n",
    "```"
   ]
  }
 ],
 "metadata": {
  "kernelspec": {
   "display_name": "Python 3 (ipykernel)",
   "language": "python",
   "name": "python3"
  },
  "language_info": {
   "codemirror_mode": {
    "name": "ipython",
    "version": 3
   },
   "file_extension": ".py",
   "mimetype": "text/x-python",
   "name": "python",
   "nbconvert_exporter": "python",
   "pygments_lexer": "ipython3",
   "version": "3.10.12"
  }
 },
 "nbformat": 4,
 "nbformat_minor": 5
}
