{
 "cells": [
  {
   "cell_type": "markdown",
   "metadata": {},
   "source": [
    "---------\n",
    "<h1><center><a name='clases'></a>Clases</h1></center>\n",
    "\n",
    "---------\n",
    "Las clases tienen las siguientes \"propiedades\":\n",
    "\n",
    "* **Herencia (Inheritance):**  \n",
    "Ejemplo: Los humanos somos un tipo de mamífero, así que heredamos propiedades de los mamíferos (pelo, mamas, etc.)\n",
    "\n",
    "* **Composición:**  \n",
    "Ejemplo: Estamos compuestos de partes que hacen diferentes cosas (esqueleto que sostiene, músculos que mueven, pulmones que respiran).\n",
    "\n",
    "Al definir una nueva clase estamos creando un nuevo tipo de objetos en Python.  \n",
    "Cada ejemplar (i.e. objeto) de una clase se conoce como una **instancia**, y cuando creamos un objeto de una clase decimos que **instanciamos** la clase.\n",
    "\n",
    "Las **funciones** definidas dentro de una clase se convierten en los **métodos** de esa clase.\\\n",
    "Las **variables** definidas dentro de una clase se convierten en los **atributos** de esa clase.\n",
    "\n",
    "Definamos la clase `Perro` con un método llamado `ladrar` y un atributo llamado `número_de_patas`:"
   ]
  },
  {
   "cell_type": "code",
   "execution_count": null,
   "metadata": {},
   "outputs": [],
   "source": []
  },
  {
   "cell_type": "code",
   "execution_count": null,
   "metadata": {},
   "outputs": [],
   "source": [
    "class persona:\n",
    "    \n",
    "    def poner_nombre(self, nombre): # Esta función define una variable llamada nom\n",
    "        self.nom = nombre           # Variables asociadas a un objeto o clase se conocen como Atributos"
   ]
  },
  {
   "cell_type": "markdown",
   "metadata": {},
   "source": [
    "Una de las ventajas de las clases es poder tener multiples instancias:"
   ]
  },
  {
   "cell_type": "code",
   "execution_count": null,
   "metadata": {},
   "outputs": [],
   "source": [
    "persona()"
   ]
  },
  {
   "cell_type": "code",
   "execution_count": null,
   "metadata": {},
   "outputs": [],
   "source": [
    "x = persona(); y = persona()\n",
    "x.nom # ¿Por qué sale error?"
   ]
  },
  {
   "cell_type": "code",
   "execution_count": null,
   "metadata": {},
   "outputs": [],
   "source": [
    "x.poner_nombre('Paul Dirac') # Al ejecutar este método definimos el atributo nom de nuestro objeto.\n",
    "x.nom"
   ]
  },
  {
   "cell_type": "code",
   "execution_count": null,
   "metadata": {},
   "outputs": [],
   "source": [
    "y.poner_nombre('Abdus Salam')"
   ]
  },
  {
   "cell_type": "code",
   "execution_count": null,
   "metadata": {},
   "outputs": [],
   "source": [
    "y.nom"
   ]
  },
  {
   "cell_type": "code",
   "execution_count": null,
   "metadata": {},
   "outputs": [],
   "source": [
    "x # Nuestro objeto aún no tiene representación."
   ]
  },
  {
   "cell_type": "code",
   "execution_count": null,
   "metadata": {},
   "outputs": [],
   "source": [
    "l = list()\n",
    "l"
   ]
  },
  {
   "cell_type": "markdown",
   "metadata": {},
   "source": [
    "Las clases a menudo tienen la función **\\__init__** que es la función mediante la cual \"nace\" un objeto de la clase."
   ]
  },
  {
   "cell_type": "code",
   "execution_count": null,
   "metadata": {},
   "outputs": [],
   "source": [
    "class persona:\n",
    "    def __init__(self, nombre):\n",
    "        self.nom = nombre\n",
    "\n",
    "    def __add__(self, otracosa): # Esto se conoce como \"Operator overloading\"\n",
    "        return self.nom +' '+ str(otracosa)\n",
    "\n",
    "    def __repr__(self):\n",
    "        return 'Yo soy '+self.nom\n",
    "\n",
    "    def cambiar_nombre(self, nuevo_nombre):\n",
    "        self.nom = nuevo_nombre\n",
    "\n",
    "    def __eq__(self, otro):\n",
    "        return 'test de igualdad entre ' + self.nom + ' y ' + str(otro)\n",
    "\n",
    "    def __str__(self):\n",
    "        return 'imprimiste '+self.nom"
   ]
  },
  {
   "cell_type": "code",
   "execution_count": null,
   "metadata": {},
   "outputs": [],
   "source": [
    "z = persona()"
   ]
  },
  {
   "cell_type": "code",
   "execution_count": null,
   "metadata": {},
   "outputs": [],
   "source": [
    "persona2 = persona('Al-Juarismi')\n",
    "persona2"
   ]
  },
  {
   "cell_type": "code",
   "execution_count": null,
   "metadata": {},
   "outputs": [],
   "source": [
    "persona2 + 9"
   ]
  },
  {
   "cell_type": "code",
   "execution_count": null,
   "metadata": {},
   "outputs": [],
   "source": [
    "y = persona('Arquímedes de Siracusa')\n",
    "y"
   ]
  },
  {
   "cell_type": "code",
   "execution_count": null,
   "metadata": {},
   "outputs": [],
   "source": [
    "persona2.__add__('1990')"
   ]
  },
  {
   "cell_type": "code",
   "execution_count": null,
   "metadata": {},
   "outputs": [],
   "source": [
    "persona2 + '1990'"
   ]
  },
  {
   "cell_type": "code",
   "execution_count": null,
   "metadata": {},
   "outputs": [],
   "source": [
    "y==9"
   ]
  },
  {
   "cell_type": "code",
   "execution_count": null,
   "metadata": {},
   "outputs": [],
   "source": [
    "print(y)"
   ]
  },
  {
   "cell_type": "code",
   "execution_count": null,
   "metadata": {},
   "outputs": [],
   "source": [
    "help(complex) # Ahora podemos entender mejor la documentación de las clases incorporadas."
   ]
  },
  {
   "cell_type": "markdown",
   "metadata": {},
   "source": [
    "Creemos una clase de monstruos gigantes:"
   ]
  },
  {
   "cell_type": "code",
   "execution_count": null,
   "metadata": {},
   "outputs": [],
   "source": [
    "import random as rn\n",
    "\n",
    "class kaiju:\n",
    "    def __init__(self, nombre, tipo = 'indefinido'):\n",
    "        self.nombre = nombre\n",
    "        self.tipo = tipo\n",
    "\n",
    "    def __repr__(self):\n",
    "        return 'Nombre: {0}\\nTipo: {1}'.format(self.nombre, self.tipo)\n",
    "\n",
    "    def __add__(self, otro):\n",
    "        return self.nombre + ' vs. ' + otro.nombre\n",
    "\n",
    "    def pelear(self, otro):\n",
    "        print(self + otro)\n",
    "        num = rn.random()\n",
    "        ganador = (self.nombre if num < 0.5 else otro.nombre)\n",
    "        print('¡',ganador, ' ha ganado la batalla!', sep='')"
   ]
  },
  {
   "cell_type": "code",
   "execution_count": null,
   "metadata": {},
   "outputs": [],
   "source": [
    "g = kaiju('Godzilla', 'Dinosaurio radiactivo')\n",
    "k = kaiju('Kumonga', 'Araña gigante')\n",
    "e = kaiju('Ebirah')"
   ]
  },
  {
   "cell_type": "code",
   "execution_count": null,
   "metadata": {},
   "outputs": [],
   "source": [
    "g"
   ]
  },
  {
   "cell_type": "code",
   "execution_count": null,
   "metadata": {},
   "outputs": [],
   "source": [
    "k"
   ]
  },
  {
   "cell_type": "code",
   "execution_count": null,
   "metadata": {},
   "outputs": [],
   "source": [
    "e"
   ]
  },
  {
   "cell_type": "code",
   "execution_count": null,
   "metadata": {},
   "outputs": [],
   "source": [
    "k.pelear(g)"
   ]
  },
  {
   "cell_type": "markdown",
   "metadata": {},
   "source": [
    "Al llamar un método como lo acabamos de hacer, es decir: **`instancia.método(argumento)`**  \n",
    "En realidad estamos haciendo lo siguiente: **`clase.método(instancia, argumento)`**"
   ]
  },
  {
   "cell_type": "code",
   "execution_count": null,
   "metadata": {},
   "outputs": [],
   "source": [
    "kaiju.pelear(k,g)"
   ]
  },
  {
   "cell_type": "markdown",
   "metadata": {},
   "source": [
    "Veamos más ejemplos de clases:"
   ]
  },
  {
   "cell_type": "code",
   "execution_count": null,
   "metadata": {},
   "outputs": [],
   "source": [
    "import time\n",
    "time.monotonic()"
   ]
  },
  {
   "cell_type": "code",
   "execution_count": null,
   "metadata": {},
   "outputs": [],
   "source": [
    "import time\n",
    "\n",
    "class pollo:\n",
    "    def __init__(self, nom):\n",
    "        self.nombre = nom\n",
    "        self.nacimiento = time.monotonic()\n",
    "\n",
    "    def edad(self):\n",
    "        edad = time.monotonic() - self.nacimiento\n",
    "        print('Mi edad es', edad, 'segundos')\n",
    "\n",
    "    def nom(self):\n",
    "        print('Yo me llamo '+ self.nombre)"
   ]
  },
  {
   "cell_type": "code",
   "execution_count": null,
   "metadata": {},
   "outputs": [],
   "source": [
    "g = pollo('Gallito George')\n",
    "g.nom()\n",
    "g.edad()"
   ]
  },
  {
   "cell_type": "code",
   "execution_count": null,
   "metadata": {},
   "outputs": [],
   "source": [
    "g.edad()"
   ]
  },
  {
   "cell_type": "code",
   "execution_count": null,
   "metadata": {},
   "outputs": [],
   "source": [
    "g.__class__ # El atributo class se crea automáticamente y me dice a qué clase pertenece un objeto"
   ]
  },
  {
   "cell_type": "markdown",
   "metadata": {},
   "source": [
    "## ¡Las funciones pueden crearse como clases también!"
   ]
  },
  {
   "cell_type": "code",
   "execution_count": null,
   "metadata": {},
   "outputs": [],
   "source": [
    "class cont:\n",
    "    def __init__(self, inicio):\n",
    "        self.contador = inicio\n",
    "        \n",
    "    def __call__(self, texto):       # El método __call__ indica qué hacer si un objeto de esta clase es llamado.\n",
    "        print(texto, self.contador)\n",
    "        self.contador += 1\n",
    "        \n",
    "    def __add__(self, x):\n",
    "        if x.__class__ == self.__class__:\n",
    "            print(self.contador + x.contador)\n",
    "        else:\n",
    "            print(self.contador + x)\n",
    "\n",
    "    def __repr__(self):\n",
    "        return str(self.contador)"
   ]
  },
  {
   "cell_type": "code",
   "execution_count": null,
   "metadata": {},
   "outputs": [],
   "source": [
    "g = cont(9)\n",
    "g.contador"
   ]
  },
  {
   "cell_type": "code",
   "execution_count": null,
   "metadata": {},
   "outputs": [],
   "source": [
    "g('Kurt Gödel')\n",
    "g('David Hilbert')\n",
    "g('Rosalind Franklin')"
   ]
  },
  {
   "cell_type": "code",
   "execution_count": null,
   "metadata": {},
   "outputs": [],
   "source": [
    "g + g"
   ]
  },
  {
   "cell_type": "code",
   "execution_count": null,
   "metadata": {},
   "outputs": [],
   "source": [
    "g + 10 # ¿Qué función se ejecuta aquí?"
   ]
  },
  {
   "cell_type": "code",
   "execution_count": null,
   "metadata": {},
   "outputs": [],
   "source": [
    "g # ¿Qué función se ejecuta aquí?"
   ]
  },
  {
   "cell_type": "code",
   "execution_count": null,
   "metadata": {},
   "outputs": [],
   "source": [
    "f = cont(1)\n",
    "f('Hola')\n",
    "f('Adios')"
   ]
  },
  {
   "cell_type": "markdown",
   "metadata": {},
   "source": [
    "## Ahora estudiemos la \"Herencia\" en las clases\n",
    "\n",
    "<img src='figuras/atributos-clases.png' width='300'/>\n",
    "<center> Tres clases y dos instancias. La clase 1 heredó sus propiedades de las clases 2 y 3. Las instancias también heredan sus propiedades de las 3 clases. Tomado de Mark Lutz (2013). _Learning Python_. O'Reilly Media. pp. 786 </center>"
   ]
  },
  {
   "cell_type": "code",
   "execution_count": null,
   "metadata": {},
   "outputs": [],
   "source": [
    "class c2:\n",
    "    x = 'Atributo x de la clase 2'\n",
    "    z = 'Atributo z de la clase 2'\n",
    "\n",
    "class c3:\n",
    "    w = 'Atributo w de la clase 3'\n",
    "    z = 'Atributo z de la clase 3'\n",
    "\n",
    "class c1 (c3, c2):\n",
    "    x = 'Atributo x de la clase 1'\n",
    "    y = 'Atributo y de la clase 1'\n",
    "\n",
    "I1 = c1(); I2 = c1()"
   ]
  },
  {
   "cell_type": "code",
   "execution_count": null,
   "metadata": {},
   "outputs": [],
   "source": [
    "I1.name = 'nombre instancia 1'\n",
    "I1.name"
   ]
  },
  {
   "cell_type": "code",
   "execution_count": null,
   "metadata": {},
   "outputs": [],
   "source": [
    "I2.name = 'instancia 2'"
   ]
  },
  {
   "cell_type": "code",
   "execution_count": null,
   "metadata": {},
   "outputs": [],
   "source": [
    "I2.name"
   ]
  },
  {
   "cell_type": "code",
   "execution_count": null,
   "metadata": {},
   "outputs": [],
   "source": [
    "type()"
   ]
  },
  {
   "cell_type": "code",
   "execution_count": null,
   "metadata": {},
   "outputs": [],
   "source": [
    "I1.x"
   ]
  },
  {
   "cell_type": "markdown",
   "metadata": {},
   "source": [
    "<img src='figuras/atributos-clases.png' width='300'/>"
   ]
  },
  {
   "cell_type": "code",
   "execution_count": null,
   "metadata": {},
   "outputs": [],
   "source": [
    "I1.z"
   ]
  },
  {
   "cell_type": "code",
   "execution_count": null,
   "metadata": {},
   "outputs": [],
   "source": [
    "c1.__bases__ # Este atributo nos dice las superclases de una clase"
   ]
  },
  {
   "cell_type": "code",
   "execution_count": null,
   "metadata": {},
   "outputs": [],
   "source": [
    "complex.__bases__"
   ]
  },
  {
   "cell_type": "markdown",
   "metadata": {},
   "source": [
    "Mediante la herencia podemos modificar fácilmente nuestras clases:"
   ]
  },
  {
   "cell_type": "code",
   "execution_count": null,
   "metadata": {},
   "outputs": [],
   "source": [
    "class pollo_francés(pollo):\n",
    "    def nom(self): # Redefinimos el método nom\n",
    "        print(\"Je m'appelle\", self.nombre)"
   ]
  },
  {
   "cell_type": "code",
   "execution_count": null,
   "metadata": {},
   "outputs": [],
   "source": [
    "x = pollo('Dirac')\n",
    "x.nom()"
   ]
  },
  {
   "cell_type": "code",
   "execution_count": null,
   "metadata": {},
   "outputs": [],
   "source": [
    "l = pollo_francés('Laplace'); time.sleep(5) # Instanciamos la clase y esperamos 5 segundos\n",
    "l.edad(); l.nom()"
   ]
  },
  {
   "cell_type": "markdown",
   "metadata": {},
   "source": [
    "## Funcion input"
   ]
  },
  {
   "cell_type": "code",
   "execution_count": null,
   "metadata": {},
   "outputs": [],
   "source": [
    "x = input('Ingrese el número:')"
   ]
  },
  {
   "cell_type": "code",
   "execution_count": null,
   "metadata": {},
   "outputs": [],
   "source": [
    "x"
   ]
  },
  {
   "cell_type": "code",
   "execution_count": null,
   "metadata": {},
   "outputs": [],
   "source": [
    "x = float(input('Ingrese el número:'))"
   ]
  },
  {
   "cell_type": "code",
   "execution_count": null,
   "metadata": {},
   "outputs": [],
   "source": [
    "x"
   ]
  },
  {
   "cell_type": "code",
   "execution_count": null,
   "metadata": {},
   "outputs": [],
   "source": [
    "class empleado:\n",
    "    def __init__(self):\n",
    "        self.nombre = input('Ingrese el nombre del empleado:')\n",
    "        self.salario = int(input('Ingrese el salario:'))\n",
    "        \n",
    "    def dar_aumento(self):\n",
    "        self.salario *= 1.10"
   ]
  },
  {
   "cell_type": "code",
   "execution_count": null,
   "metadata": {},
   "outputs": [],
   "source": [
    "e = empleado()"
   ]
  },
  {
   "cell_type": "code",
   "execution_count": null,
   "metadata": {},
   "outputs": [],
   "source": [
    "e.salario"
   ]
  },
  {
   "cell_type": "code",
   "execution_count": null,
   "metadata": {},
   "outputs": [],
   "source": [
    "e.dar_aumento()\n",
    "e.salario"
   ]
  },
  {
   "cell_type": "markdown",
   "metadata": {},
   "source": [
    "<center><h1>Properties</h1></center>"
   ]
  },
  {
   "cell_type": "code",
   "execution_count": null,
   "metadata": {},
   "outputs": [],
   "source": [
    "class persona:\n",
    "    def __init__(self, nombre):\n",
    "        self.nombre = nombre\n",
    "        print('Creada la instancia', self)\n",
    "\n",
    "    def getedad(self):\n",
    "        print('La edad de',self,'es',self._edad)\n",
    "\n",
    "    def setedad(self, x):\n",
    "        if type(x) != int:\n",
    "            raise Exception('Edad inválida, debe ser un número')\n",
    "        self._edad = x\n",
    "        print('La nueva edad de',self,'es:', x)\n",
    "\n",
    "    edad = property(getedad, setedad, None, \"Soy la propiedad edad\")\n",
    "\n",
    "    def __repr__(self):\n",
    "        return self.nombre"
   ]
  },
  {
   "cell_type": "code",
   "execution_count": null,
   "metadata": {},
   "outputs": [],
   "source": [
    "x = persona('Kakaroto')"
   ]
  },
  {
   "cell_type": "code",
   "execution_count": null,
   "metadata": {},
   "outputs": [],
   "source": [
    "x.nombre"
   ]
  },
  {
   "cell_type": "code",
   "execution_count": null,
   "metadata": {},
   "outputs": [],
   "source": [
    "x.edad = 9"
   ]
  },
  {
   "cell_type": "code",
   "execution_count": null,
   "metadata": {},
   "outputs": [],
   "source": [
    "x.edad"
   ]
  }
 ],
 "metadata": {
  "kernelspec": {
   "display_name": "Python 3 (ipykernel)",
   "language": "python",
   "name": "python3"
  },
  "language_info": {
   "codemirror_mode": {
    "name": "ipython",
    "version": 3
   },
   "file_extension": ".py",
   "mimetype": "text/x-python",
   "name": "python",
   "nbconvert_exporter": "python",
   "pygments_lexer": "ipython3",
   "version": "3.10.12"
  }
 },
 "nbformat": 4,
 "nbformat_minor": 4
}
