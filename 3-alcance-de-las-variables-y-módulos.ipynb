{
 "cells": [
  {
   "cell_type": "markdown",
   "metadata": {},
   "source": [
    "<h1><center>Variables y módulos</center></h1>\n",
    "\n",
    "- [Alcance de las variables](#alcance)\n",
    "- [Importando módulos](#import)\n",
    "\n",
    "<h2>\n",
    "<a name='alcance'></a>\n",
    "Alcance - esfera de acción de las variables (Scope)\n",
    "</h2>\n",
    "\n",
    "Debemos tener en cuenta que en Python las variables tienen una \"esfera de acción\" según donde se definan. Por ejemplo:  \n",
    "Lo que pasa en la función, se queda en la función:"
   ]
  },
  {
   "cell_type": "code",
   "execution_count": null,
   "metadata": {},
   "outputs": [],
   "source": [
    "z = 9            # Esta es una variable global, existe en el entorno en el que estamos trabajando.\n",
    "def reasignar(x):\n",
    "    z = x*10      # Esta z es una variable local, solo es visible dentro de la función.\n",
    "    print(z)"
   ]
  },
  {
   "cell_type": "code",
   "execution_count": null,
   "metadata": {},
   "outputs": [],
   "source": [
    "reasignar(3)\n",
    "z"
   ]
  },
  {
   "cell_type": "code",
   "execution_count": null,
   "metadata": {},
   "outputs": [],
   "source": [
    "def reasignar(x):\n",
    "    global z; z = x*10\n",
    "    print(z)"
   ]
  },
  {
   "cell_type": "code",
   "execution_count": null,
   "metadata": {},
   "outputs": [],
   "source": [
    "reasignar(3)\n",
    "z"
   ]
  },
  {
   "cell_type": "code",
   "execution_count": null,
   "metadata": {},
   "outputs": [],
   "source": [
    "f = lambda: z/2"
   ]
  },
  {
   "cell_type": "code",
   "execution_count": null,
   "metadata": {},
   "outputs": [],
   "source": [
    "f()"
   ]
  },
  {
   "cell_type": "markdown",
   "metadata": {},
   "source": [
    "<h3><center>Regla LEGB de búsqueda de variables en Python</center></h3>\n",
    "<img src='figuras/legb-rule.png' width='540'/>\n",
    "<center> Mark Lutz (2013). _Learning Python_. pp. 489 </center>"
   ]
  },
  {
   "cell_type": "code",
   "execution_count": null,
   "metadata": {},
   "outputs": [],
   "source": [
    "x = 9\n",
    "def fun():\n",
    "    return x*2\n",
    "\n",
    "fun()"
   ]
  },
  {
   "cell_type": "code",
   "execution_count": null,
   "metadata": {},
   "outputs": [],
   "source": [
    "x = 9\n",
    "def fun():\n",
    "    x = 4\n",
    "    return x*2\n",
    "\n",
    "fun()"
   ]
  },
  {
   "cell_type": "code",
   "execution_count": null,
   "metadata": {},
   "outputs": [],
   "source": [
    "x = 9\n",
    "def fun(x):\n",
    "    return x*2\n",
    "\n",
    "fun(6) # x = 6"
   ]
  },
  {
   "cell_type": "code",
   "execution_count": null,
   "metadata": {},
   "outputs": [],
   "source": [
    "x = 9\n",
    "def fun():\n",
    "    x = 3\n",
    "    def anidada():\n",
    "        return x*2\n",
    "    return anidada()"
   ]
  },
  {
   "cell_type": "code",
   "execution_count": null,
   "metadata": {},
   "outputs": [],
   "source": [
    "fun()"
   ]
  },
  {
   "cell_type": "markdown",
   "metadata": {},
   "source": [
    "### ¡Atención! Declaraciones de loop no localizan nombres de variables"
   ]
  },
  {
   "cell_type": "code",
   "execution_count": null,
   "metadata": {},
   "outputs": [],
   "source": [
    "y = 99; print(y)\n",
    "print('---')\n",
    "for y in 'kakaroto':   # y = 'k', y = 'a', ..., y = 'o'\n",
    "    print(y)\n",
    "print('---')\n",
    "print(y)"
   ]
  },
  {
   "cell_type": "markdown",
   "metadata": {},
   "source": [
    "Aparte de **global** existe otra declaración para no localizar variables.\n",
    "Veamos ahora **nonlocal** en acción en un ejemplo interesante: Una función para crear funciones."
   ]
  },
  {
   "cell_type": "code",
   "execution_count": null,
   "metadata": {},
   "outputs": [],
   "source": [
    "c = 90            # c de manera global\n",
    "def contador():\n",
    "    c = 1\n",
    "    print('El valor de c en contador es:', c)\n",
    "    def fun():\n",
    "        # nonlocal c\n",
    "        c = 10          # Aquí estoy definiendo una \"nueva\" variable c\n",
    "        print('El valor de c en fun es:', c)\n",
    "    fun()\n",
    "    print('El valor final de c en contador es:', c)"
   ]
  },
  {
   "cell_type": "code",
   "execution_count": null,
   "metadata": {},
   "outputs": [],
   "source": [
    "contador()\n",
    "print('El valor de c de manera global es:', c)"
   ]
  },
  {
   "cell_type": "code",
   "execution_count": null,
   "metadata": {},
   "outputs": [],
   "source": [
    "c = 90\n",
    "def contador():\n",
    "    c = 1\n",
    "    print('El valor de c en contador es:', c)\n",
    "    def fun():\n",
    "        nonlocal c\n",
    "        c = 10               # Aquí estoy en realidad redefiniendo c\n",
    "        print('El valor de c en fun es:', c)\n",
    "    fun()\n",
    "    print('El valor final de c en contador es:', c)"
   ]
  },
  {
   "cell_type": "code",
   "execution_count": null,
   "metadata": {},
   "outputs": [],
   "source": [
    "contador()\n",
    "print('El valor global de c es:', c)"
   ]
  },
  {
   "cell_type": "code",
   "execution_count": null,
   "metadata": {},
   "outputs": [],
   "source": [
    "def contador():\n",
    "    c = 1\n",
    "    def fun():\n",
    "        nonlocal c\n",
    "        print('¿Cuántas veces se ha usado esta función?\\nSe ha usado',c,'veces.')\n",
    "        c += 1\n",
    "    return fun"
   ]
  },
  {
   "cell_type": "code",
   "execution_count": null,
   "metadata": {},
   "outputs": [],
   "source": [
    "contador()"
   ]
  },
  {
   "cell_type": "code",
   "execution_count": null,
   "metadata": {},
   "outputs": [],
   "source": [
    "gauss = contador()\n",
    "gauss()"
   ]
  },
  {
   "cell_type": "code",
   "execution_count": null,
   "metadata": {},
   "outputs": [],
   "source": [
    "gauss()\n",
    "gauss()"
   ]
  },
  {
   "cell_type": "code",
   "execution_count": null,
   "metadata": {},
   "outputs": [],
   "source": [
    "gauss()"
   ]
  },
  {
   "cell_type": "code",
   "execution_count": null,
   "metadata": {},
   "outputs": [],
   "source": [
    "poisson = contador()"
   ]
  },
  {
   "cell_type": "code",
   "execution_count": null,
   "metadata": {},
   "outputs": [],
   "source": [
    "poisson()\n",
    "poisson()"
   ]
  },
  {
   "cell_type": "code",
   "execution_count": null,
   "metadata": {},
   "outputs": [],
   "source": [
    "gauss()"
   ]
  },
  {
   "cell_type": "code",
   "execution_count": null,
   "metadata": {},
   "outputs": [],
   "source": [
    "c = 1\n",
    "def fun():\n",
    "        global c\n",
    "        print('¿Cuántas veces se ha usado esta función?\\nSe ha usado',c,'veces.')\n",
    "        c += 1"
   ]
  },
  {
   "cell_type": "code",
   "execution_count": null,
   "metadata": {},
   "outputs": [],
   "source": [
    "fun()"
   ]
  },
  {
   "cell_type": "code",
   "execution_count": null,
   "metadata": {},
   "outputs": [],
   "source": [
    "fun()\n",
    "fun()"
   ]
  },
  {
   "cell_type": "markdown",
   "metadata": {},
   "source": [
    "### Brevísima introducción a los atributos\n",
    "Veamos un ejemplo similar al anterior pero ahora usando una variable como atributo de la función:"
   ]
  },
  {
   "cell_type": "code",
   "execution_count": null,
   "metadata": {},
   "outputs": [],
   "source": [
    "def sastre():\n",
    "    sastre.moscos += 1\n",
    "    print('¿A cuántos mataste sastre?\\n¡Maté ', sastre.moscos,'!',sep='')"
   ]
  },
  {
   "cell_type": "code",
   "execution_count": null,
   "metadata": {},
   "outputs": [],
   "source": [
    "sastre.moscos = 1\n",
    "sastre()\n",
    "sastre()\n",
    "sastre()"
   ]
  },
  {
   "cell_type": "code",
   "execution_count": null,
   "metadata": {},
   "outputs": [],
   "source": [
    "sastre()"
   ]
  },
  {
   "cell_type": "code",
   "execution_count": null,
   "metadata": {},
   "outputs": [],
   "source": [
    "sastre.moscos"
   ]
  },
  {
   "cell_type": "code",
   "execution_count": null,
   "metadata": {},
   "outputs": [],
   "source": [
    "c = 9 + 2j\n",
    "print(c.imag)\n",
    "print(c.real)\n",
    "print(c.conjugate())"
   ]
  },
  {
   "cell_type": "markdown",
   "metadata": {},
   "source": [
    "<h1><center>\n",
    "<a name='import'></a>\n",
    "Importando módulos </center></h1>\n",
    "\n",
    "En algunas ocasiones necesitamos funciones o complementos que Python por defecto no tiene, sin embargo, existen muchos módulos creados por otras personas que nos pueden ayudar en nuestro trabajo.\n",
    "\n",
    "Por ejemplo queremos usar el número pi y la función coseno."
   ]
  },
  {
   "cell_type": "code",
   "execution_count": null,
   "metadata": {},
   "outputs": [],
   "source": [
    "cos(pi)"
   ]
  },
  {
   "cell_type": "code",
   "execution_count": null,
   "metadata": {},
   "outputs": [],
   "source": [
    "import math"
   ]
  },
  {
   "cell_type": "code",
   "execution_count": null,
   "metadata": {},
   "outputs": [],
   "source": [
    "print(math.pi)"
   ]
  },
  {
   "cell_type": "code",
   "execution_count": null,
   "metadata": {},
   "outputs": [],
   "source": [
    "math.cos(math.pi)"
   ]
  },
  {
   "cell_type": "code",
   "execution_count": null,
   "metadata": {},
   "outputs": [],
   "source": [
    "import math as m # Para no tener que teclear tanto podemos hacer esta asignación, lo que hace Python es:\n",
    "# m = math; del math\n",
    "print(m.pi)\n",
    "del m # Delete m\n",
    "print(m.pi)"
   ]
  },
  {
   "cell_type": "code",
   "execution_count": null,
   "metadata": {},
   "outputs": [],
   "source": [
    "m = math\n",
    "m.pi"
   ]
  },
  {
   "cell_type": "markdown",
   "metadata": {},
   "source": [
    "Al importar el módulo `math`, importamos muchas funcionalidades de ese módulo. Si solo necesitamos usar el número $\\pi$ y la función Coseno, hacemos lo siguiente:"
   ]
  },
  {
   "cell_type": "code",
   "execution_count": null,
   "metadata": {},
   "outputs": [],
   "source": [
    "from math import pi, cos\n",
    "print(cos(pi))"
   ]
  },
  {
   "cell_type": "code",
   "execution_count": null,
   "metadata": {},
   "outputs": [],
   "source": [
    "cos = lambda x: print('No voy a calcular el coseno de', x,', la función cos fue sobrescrita.')\n",
    "cos(pi)"
   ]
  },
  {
   "cell_type": "markdown",
   "metadata": {},
   "source": [
    "Los módulos solo son importados una vez, para volverlos a cargar hay que ejecutar `from imp import reload`."
   ]
  },
  {
   "cell_type": "code",
   "execution_count": null,
   "metadata": {},
   "outputs": [],
   "source": [
    "import mercurio as me"
   ]
  },
  {
   "cell_type": "code",
   "execution_count": null,
   "metadata": {},
   "outputs": [],
   "source": [
    "help(me)"
   ]
  },
  {
   "cell_type": "markdown",
   "metadata": {},
   "source": [
    "Vayamos al archivo del módulo y hagamos una modificación, por ejemplo, añadiendo al final la línea:  \n",
    "`print('El módulo fue importado')`"
   ]
  },
  {
   "cell_type": "code",
   "execution_count": null,
   "metadata": {},
   "outputs": [],
   "source": [
    "import mercurio as me"
   ]
  },
  {
   "cell_type": "code",
   "execution_count": null,
   "metadata": {},
   "outputs": [],
   "source": [
    "from imp import reload\n",
    "reload(me)"
   ]
  },
  {
   "cell_type": "code",
   "execution_count": null,
   "metadata": {},
   "outputs": [],
   "source": [
    "help(me.mercurio)"
   ]
  },
  {
   "cell_type": "code",
   "execution_count": null,
   "metadata": {},
   "outputs": [],
   "source": [
    "me.mercurio(2,5, 100)"
   ]
  },
  {
   "cell_type": "code",
   "execution_count": null,
   "metadata": {},
   "outputs": [],
   "source": [
    "from mercurio import radiobar"
   ]
  },
  {
   "cell_type": "code",
   "execution_count": null,
   "metadata": {},
   "outputs": [],
   "source": [
    "help(radiobar)"
   ]
  },
  {
   "cell_type": "code",
   "execution_count": null,
   "metadata": {},
   "outputs": [],
   "source": [
    "radiobar(100000, 10)"
   ]
  },
  {
   "cell_type": "markdown",
   "metadata": {},
   "source": [
    "Hay muchos módulos con funcionalidades muy utilizadas:"
   ]
  },
  {
   "cell_type": "code",
   "execution_count": null,
   "metadata": {},
   "outputs": [],
   "source": [
    "import statistics as st"
   ]
  },
  {
   "cell_type": "code",
   "execution_count": null,
   "metadata": {},
   "outputs": [],
   "source": [
    "datos = [1,2,3,4]\n",
    "st.mean(datos)"
   ]
  },
  {
   "cell_type": "code",
   "execution_count": null,
   "metadata": {},
   "outputs": [],
   "source": [
    "st.variance(datos)"
   ]
  },
  {
   "cell_type": "markdown",
   "metadata": {},
   "source": [
    "Otros módulos de interés son:\n",
    "\n",
    "|         Módulo  | Descripción|\n",
    "| --------------: | :--------- |\n",
    "| **Biopython** | Colección de bibliotecas orientadas a la bioinformática para Python.|\n",
    "| **NumPy** | Biblioteca que da soporte al cálculo con matrices y vectores.|\n",
    "| **SciPy** | Biblioteca que permite realizar análisis científico como optimización, álgebra lineal, integración, ecuaciones diferenciales entre otras.|\n",
    "| **Pandas** | Biblioteca que permite el análisis de datos a través de series y «dataframes».|\n",
    "| **Pyomo** | Colección de paquetes de software de Python para formular modelos de optimización.|\n",
    "| **Matplotlib** | Biblioteca para la generación de gráficos a partir de datos contenidos en listas o arrays en el lenguaje de programación Python y su extensión matemática NumPy.|\n",
    "\n",
    "A continuación vamos a instalar Numpy y Matplotlib en caso de que no los tengamos.\n",
    "El símbolo `!` le dice a Jupyter que interprete el texto que sigue como\n",
    "un comando de terminal:"
   ]
  },
  {
   "cell_type": "code",
   "execution_count": null,
   "metadata": {},
   "outputs": [],
   "source": [
    "!pip3 install numpy\n",
    "!pip3 install matplotlib"
   ]
  },
  {
   "cell_type": "markdown",
   "metadata": {},
   "source": [
    "En Windows:"
   ]
  },
  {
   "cell_type": "code",
   "execution_count": null,
   "metadata": {},
   "outputs": [],
   "source": [
    "!python -m pip install numpy\n",
    "!python -m pip install matplotlib"
   ]
  },
  {
   "cell_type": "markdown",
   "metadata": {},
   "source": [
    "<img src='figuras/program-arch.png' width='670'>\n",
    "<center> Mark Lutz (2013). <i>Learning Python</i>. pp. 672 </center>\n",
    "\n",
    "¿Dónde busca Python los módulos que le pedimos que importe?\n",
    "1. Directorio principal del programa (donde el programa está trabajando). Para ver cuál es ese directorio ejecutamos:  \n",
    "`import os`  \n",
    "`os.getcwd()`"
   ]
  },
  {
   "cell_type": "code",
   "execution_count": null,
   "metadata": {},
   "outputs": [],
   "source": [
    "import os\n",
    "os.getcwd() # Get Current Working Directory"
   ]
  },
  {
   "cell_type": "markdown",
   "metadata": {},
   "source": [
    "2. Los directorios en la variable `PYTHONPATH`.\n",
    "3. Los directorios de las librerías estándar.\n",
    "4. Los contenidos de los archivos `.pth`  \n",
    "Estos generalmente se ponen en `/usr/lib/python3/dist-packages/` en Linux.\n",
    "5. La carpeta principal de los _site-packages_ de extensiones de terceros.\n",
    "\n",
    "Además de modificar algunas de las opciones anteriores, también podemos modificar el atributo `sys.path`:"
   ]
  },
  {
   "cell_type": "code",
   "execution_count": null,
   "metadata": {},
   "outputs": [],
   "source": [
    "import sys\n",
    "sys.path"
   ]
  },
  {
   "cell_type": "code",
   "execution_count": null,
   "metadata": {},
   "outputs": [],
   "source": [
    "type(sys.path)"
   ]
  },
  {
   "cell_type": "code",
   "execution_count": null,
   "metadata": {},
   "outputs": [],
   "source": [
    "sys.path.append('/home/nesper/Escritorio')\n",
    "sys.path"
   ]
  },
  {
   "cell_type": "markdown",
   "metadata": {},
   "source": [
    "## El truco if `__name__ == '__main__'`\n",
    "Cada módulo en Python tiene un atributo llamado `__name__` que se define así:\n",
    "* Si el archivo es ejecutado como un archivo de programa de nivel superior, entonces a `__name__` se le asigna el valor de `__main__`.\n",
    "* Si el archivo, por el contrario, es importado, `__name__` tiene como valor el nombre del módulo."
   ]
  },
  {
   "cell_type": "code",
   "execution_count": null,
   "metadata": {},
   "outputs": [],
   "source": [
    "me.__name__"
   ]
  },
  {
   "cell_type": "markdown",
   "metadata": {},
   "source": [
    "Podemos aprovechar esto para correr código que solo se ejecute si\n",
    "nuestro módulo es corrido como script o programa principal:\n",
    "\n",
    "```if __name__ == '__main__':\n",
    "    print('El módulo se ejecutó como programa principal.')```"
   ]
  },
  {
   "cell_type": "code",
   "execution_count": null,
   "metadata": {},
   "outputs": [],
   "source": [
    "from imp import reload\n",
    "reload(me)"
   ]
  },
  {
   "cell_type": "code",
   "execution_count": null,
   "metadata": {},
   "outputs": [],
   "source": []
  }
 ],
 "metadata": {
  "kernelspec": {
   "display_name": "Python 3",
   "language": "python",
   "name": "python3"
  },
  "language_info": {
   "codemirror_mode": {
    "name": "ipython",
    "version": 3
   },
   "file_extension": ".py",
   "mimetype": "text/x-python",
   "name": "python",
   "nbconvert_exporter": "python",
   "pygments_lexer": "ipython3",
   "version": "3.8.3"
  }
 },
 "nbformat": 4,
 "nbformat_minor": 4
}
