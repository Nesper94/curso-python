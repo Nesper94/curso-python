{
 "cells": [
  {
   "cell_type": "markdown",
   "id": "62c64d72",
   "metadata": {},
   "source": [
    "# Decoradores\n",
    "\n",
    "Los decoradores en Python son funciones especiales que permiten\n",
    "modificar el comportamiento de otra función.\n",
    "\n",
    "<https://realpython.com/primer-on-python-decorators/>"
   ]
  },
  {
   "cell_type": "code",
   "execution_count": null,
   "id": "caddf501",
   "metadata": {},
   "outputs": [],
   "source": [
    "def decorador(función):\n",
    "    def envoltura():\n",
    "        print(f'Antes de ejecutar {función.__name__}')\n",
    "        resultado = función() # Capturar el resultado de \"función\"\n",
    "        print(f'Después de ejecutar {función.__name__}')\n",
    "        return resultado # Entregar el resultado de \"función\"\n",
    "    return envoltura # Entregar la función \"envoltura\""
   ]
  },
  {
   "cell_type": "markdown",
   "id": "3b4f67ce",
   "metadata": {},
   "source": [
    "Definamos primero la función sin decorador:\n",
    "\n",
    "```python\n",
    "def mi_función():\n",
    "    print('Soy mi_función')\n",
    "    return 42\n",
    "```"
   ]
  },
  {
   "cell_type": "code",
   "execution_count": null,
   "id": "0bed62c4",
   "metadata": {},
   "outputs": [],
   "source": []
  },
  {
   "cell_type": "markdown",
   "id": "ca72d558",
   "metadata": {},
   "source": [
    "Definamos ahora la función con el decorador:\n",
    "\n",
    "```python\n",
    "@decorador\n",
    "def mi_función():\n",
    "    print('Soy mi_función')\n",
    "    return 42\n",
    "```"
   ]
  },
  {
   "cell_type": "code",
   "execution_count": null,
   "id": "8231cf69",
   "metadata": {},
   "outputs": [],
   "source": []
  },
  {
   "cell_type": "markdown",
   "id": "9446d681",
   "metadata": {},
   "source": [
    "Veamos un ejemplo para tomar el tiempo de ejecución\n",
    "de las funciones:"
   ]
  },
  {
   "cell_type": "code",
   "execution_count": null,
   "id": "6f10698e",
   "metadata": {},
   "outputs": [],
   "source": [
    "import time"
   ]
  },
  {
   "cell_type": "code",
   "execution_count": null,
   "id": "806c55c3",
   "metadata": {},
   "outputs": [],
   "source": [
    "def tomar_tiempo(func):\n",
    "    def envoltura():\n",
    "        t0 = time.time() # Tiempo inicial\n",
    "        resultado = func()\n",
    "        t = time.time() - t0 # Tiempo que tardó la función en ejecutarse\n",
    "        print(f'La función {func.__name__} se tardó {t} segundos.')\n",
    "        return resultado\n",
    "    return envoltura"
   ]
  },
  {
   "cell_type": "code",
   "execution_count": null,
   "id": "4610691c",
   "metadata": {},
   "outputs": [],
   "source": [
    "@tomar_tiempo\n",
    "def empanada():\n",
    "    time.sleep(2)\n",
    "    print('Hola, soy la función empanada.')\n",
    "    return 42\n",
    "\n",
    "@tomar_tiempo\n",
    "def tamal():\n",
    "    time.sleep(1)\n",
    "    return 'Godzilla'"
   ]
  },
  {
   "cell_type": "code",
   "execution_count": null,
   "id": "83755aff",
   "metadata": {},
   "outputs": [],
   "source": [
    "empanada()"
   ]
  },
  {
   "cell_type": "code",
   "execution_count": null,
   "id": "701efa8c",
   "metadata": {},
   "outputs": [],
   "source": [
    "x = tamal()"
   ]
  },
  {
   "cell_type": "code",
   "execution_count": null,
   "id": "680f7805",
   "metadata": {},
   "outputs": [],
   "source": [
    "x"
   ]
  }
 ],
 "metadata": {
  "kernelspec": {
   "display_name": "Python 3 (ipykernel)",
   "language": "python",
   "name": "python3"
  },
  "language_info": {
   "codemirror_mode": {
    "name": "ipython",
    "version": 3
   },
   "file_extension": ".py",
   "mimetype": "text/x-python",
   "name": "python",
   "nbconvert_exporter": "python",
   "pygments_lexer": "ipython3",
   "version": "3.10.12"
  }
 },
 "nbformat": 4,
 "nbformat_minor": 5
}
